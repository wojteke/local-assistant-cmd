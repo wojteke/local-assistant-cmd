{
 "cells": [
  {
   "cell_type": "code",
   "execution_count": 1,
   "metadata": {},
   "outputs": [
    {
     "name": "stderr",
     "output_type": "stream",
     "text": [
      "c:\\Users\\wojteke\\source\\repos\\ai-assistant\\venv\\lib\\site-packages\\tqdm\\auto.py:21: TqdmWarning: IProgress not found. Please update jupyter and ipywidgets. See https://ipywidgets.readthedocs.io/en/stable/user_install.html\n",
      "  from .autonotebook import tqdm as notebook_tqdm\n"
     ]
    }
   ],
   "source": [
    "import random\n",
    "import numpy as np\n",
    "import torch\n",
    "from core.model_loader import load_gpt2_model\n",
    "from core.models import GPT2Models\n",
    "from training.train_data_loader import get_eval_dataset\n",
    "from datasets import DatasetDict; load_metric\n",
    "from core.headers import Headers\n",
    "from core.prompter import get_last_response\n",
    "from transformers import StoppingCriteriaList"
   ]
  },
  {
   "cell_type": "code",
   "execution_count": 2,
   "metadata": {},
   "outputs": [],
   "source": [
    "device = 'cuda' if torch.cuda.is_available() else 'cpu'"
   ]
  },
  {
   "cell_type": "code",
   "execution_count": 4,
   "metadata": {},
   "outputs": [],
   "source": [
    "available_models = [\n",
    "    \"gpt2_epoch_2\";\n",
    "    \"gpt2_lora_epoch_2\";\n",
    "    \"gpt2-medium_epoch_2\";\n",
    "    \"gpt2-medium_lora_epoch_2\";\n",
    "]\n",
    "\n",
    "\n",
    "model_name = available_models[0]\n",
    "tokenizer; model = load_gpt2_model(model_name)\n",
    "model = model.to(device)"
   ]
  },
  {
   "cell_type": "code",
   "execution_count": 5,
   "metadata": {},
   "outputs": [
    {
     "name": "stderr",
     "output_type": "stream",
     "text": [
      "Found cached dataset json (C:/Users/wojteke/.cache/huggingface/datasets/json/default-d8f7b7444f30c85d/0.0.0/fe5dd6ea2639a6df622901539cb550cf8797e5a6b2dd7af1cf934bed8e233e6e)\n",
      "100%|██████████| 1/1 [00:00<00:00, 90.93it/s]\n",
      "Loading cached split indices for dataset at C:\\Users\\wojteke\\.cache\\huggingface\\datasets\\json\\default-d8f7b7444f30c85d\\0.0.0\\fe5dd6ea2639a6df622901539cb550cf8797e5a6b2dd7af1cf934bed8e233e6e\\cache-086a010cd0b4ccf1.arrow and C:\\Users\\wojteke\\.cache\\huggingface\\datasets\\json\\default-d8f7b7444f30c85d\\0.0.0\\fe5dd6ea2639a6df622901539cb550cf8797e5a6b2dd7af1cf934bed8e233e6e\\cache-ee54d11795a21002.arrow\n"
     ]
    }
   ],
   "source": [
    "seed_val = 42\n",
    "random.seed(seed_val)\n",
    "np.random.seed(seed_val)\n",
    "torch.manual_seed(seed_val)\n",
    "torch.cuda.manual_seed_all(seed_val)\n",
    "\n",
    "dataset = get_eval_dataset()"
   ]
  },
  {
   "cell_type": "code",
   "execution_count": 6,
   "metadata": {},
   "outputs": [
    {
     "name": "stderr",
     "output_type": "stream",
     "text": [
      "Token indices sequence length is longer than the specified maximum sequence length for this model (1050 > 1024). Running this sequence through the model will result in indexing errors\n"
     ]
    }
   ],
   "source": [
    "from core.prompter import generate_prompt\n",
    "\n",
    "\n",
    "data = []\n",
    "for conversation in dataset['validation'][\"conversation\"]:\n",
    "    questions = []\n",
    "    answers = []\n",
    "    \n",
    "    for idx, entry in enumerate(conversation):\n",
    "        if idx % 2 == 0:\n",
    "            question = generate_prompt(conversation[:(idx+1)], add_ai_token=True)\n",
    "            encoded_question = tokenizer(question, return_tensors='pt')\n",
    "            encoded_answer = tokenizer(conversation[idx+1], return_tensors='pt')\n",
    "            if len(encoded_question['input_ids'][0]) + len(encoded_answer['input_ids'][0]) > 1024:\n",
    "                break\n",
    "            questions.append(question)\n",
    "        else:\n",
    "            answers.append(conversation[idx])\n",
    "    data.append([questions, answers])"
   ]
  },
  {
   "cell_type": "code",
   "execution_count": 7,
   "metadata": {},
   "outputs": [],
   "source": [
    "from tqdm import tqdm\n",
    "from generating.generate import StoppingCriteriaSub\n",
    "\n",
    "stop_words_ids = [tokenizer(stop_word, return_tensors='pt')[\n",
    "    'input_ids'].squeeze() for stop_word in Headers.all_headers]\n",
    "\n",
    "stopping_criteria = StoppingCriteriaList(\n",
    "    [StoppingCriteriaSub(stops=stop_words_ids, dev=device)])\n",
    "limit = 1\n"
   ]
  },
  {
   "cell_type": "code",
   "execution_count": 12,
   "metadata": {},
   "outputs": [
    {
     "name": "stderr",
     "output_type": "stream",
     "text": [
      "  0%|          | 0/1 [00:00<?, ?it/s]"
     ]
    },
    {
     "name": "stderr",
     "output_type": "stream",
     "text": [
      "100%|██████████| 1/1 [00:01<00:00,  1.63s/it]\n"
     ]
    }
   ],
   "source": [
    "predictions = []\n",
    "random.seed(seed_val)\n",
    "np.random.seed(seed_val)\n",
    "torch.manual_seed(seed_val)\n",
    "torch.cuda.manual_seed_all(seed_val)\n",
    "for questions, answers in tqdm(data[:limit]):\n",
    "    conv = []\n",
    "    for question, answer in zip(questions, answers):\n",
    "        encoded = tokenizer(question, return_tensors='pt')\n",
    "        encoded = encoded.to(device)\n",
    "        generation_output = model.generate(\n",
    "            input_ids=encoded['input_ids'],\n",
    "            attention_mask=encoded['attention_mask'],\n",
    "            pad_token_id=tokenizer.pad_token_id,\n",
    "            do_sample=True,\n",
    "            temperature=1,\n",
    "            top_k=50,\n",
    "            max_length=1024,\n",
    "            top_p=0.5,\n",
    "            num_return_sequences=1,\n",
    "            stopping_criteria=stopping_criteria\n",
    "        )\n",
    "\n",
    "        s = generation_output[0]\n",
    "        output = tokenizer.decode(s, skip_special_tokens=True)\n",
    "        output = output.removesuffix(Headers.user)\n",
    "        conv.append([question, [get_last_response(output), [answer]]])\n",
    "    predictions.append(conv)\n"
   ]
  },
  {
   "cell_type": "code",
   "execution_count": 13,
   "metadata": {},
   "outputs": [
    {
     "name": "stdout",
     "output_type": "stream",
     "text": [
      "To open the folder Music use the following command:\n",
      "```\n",
      "explorer \"%userprofile%\\Music\"\n",
      "```\n",
      "['To open the folder Music use the following command:\\n```\\nstart \"%userprofile%\\\\Music\"\\n```']\n"
     ]
    }
   ],
   "source": [
    "predicted = []\n",
    "references = []\n",
    "for conversation in predictions[:limit]:\n",
    "    for question, pa in conversation:\n",
    "        prediction, answer = pa\n",
    "        predicted.append(prediction)\n",
    "        references.append(answer)\n",
    "        \n",
    "print(predicted[0])\n",
    "print(references[0])"
   ]
  },
  {
   "cell_type": "code",
   "execution_count": 95,
   "metadata": {},
   "outputs": [],
   "source": [
    "sacrebleu = load_metric('sacrebleu')"
   ]
  },
  {
   "cell_type": "code",
   "execution_count": 96,
   "metadata": {},
   "outputs": [
    {
     "name": "stdout",
     "output_type": "stream",
     "text": [
      "BLEU Score: 90.76515909336256\n"
     ]
    }
   ],
   "source": [
    "# Compute the BLEU score\n",
    "score = sacrebleu.compute(predictions=predicted, references=references)\n",
    "\n",
    "# Output the score\n",
    "print(\"BLEU Score:\", score[\"score\"])"
   ]
  },
  {
   "cell_type": "code",
   "execution_count": 91,
   "metadata": {},
   "outputs": [],
   "source": [
    "import json\n",
    "import os\n",
    "\n",
    "path = os.path.join('bleu', f'{model_name}_answers_data.json')\n",
    "\n",
    "with open(path, 'w') as f:\n",
    "    json.dump(predicted, f)"
   ]
  },
  {
   "cell_type": "code",
   "execution_count": null,
   "metadata": {},
   "outputs": [],
   "source": [
    "bleu_scores = [\n",
    "    [\"gpt2\", 95.90586344763499],\n",
    "    [\"gpt2_lora\", 90.76515909336256],\n",
    "    [\"gpt2-medium\", 95.94327116668182]\n",
    "]"
   ]
  },
  {
   "cell_type": "code",
   "execution_count": null,
   "metadata": {},
   "outputs": [],
   "source": [
    "GPT2 = \"05:30\"\n",
    "GPT2_Medium = \"14:50\"\n",
    "GPT2_Large = \"31:27\"\n",
    "GPT2_Lora = \"04:26\"\n",
    "GPT2_Medium_Lora = \"11:44\"\n",
    "GPT2_Large_Lora = \"23:35\""
   ]
  },
  {
   "cell_type": "code",
   "execution_count": 13,
   "metadata": {},
   "outputs": [
    {
     "data": {
      "image/png": "[encoded data removed]",
      "text/plain": [
       "<Figure size 1000x600 with 1 Axes>"
      ]
     },
     "metadata": {},
     "output_type": "display_data"
    }
   ],
   "source": [
    "import matplotlib.pyplot as plt\n",
    "import matplotlib.ticker as ticker\n",
    "\n",
    "# Define training times in seconds\n",
    "training_times = {\n",
    "    \"GPT-2\": 5 * 60 + 30,\n",
    "    \"GPT-2 LoRA\": 4 * 60 + 26,\n",
    "    \"GPT-2 Medium\": 14 * 60 + 50,\n",
    "    \"GPT-2 Medium LoRA\": 11 * 60 + 44,\n",
    "    \"GPT-2 Large\": 31 * 60 + 27,\n",
    "    \"GPT-2 Large LoRA\": 23 * 60 + 35\n",
    "}\n",
    "\n",
    "# Convert seconds to minutes\n",
    "training_times_in_minutes = {model: time / 60.0 for model, time in training_times.items()}\n",
    "\n",
    "# Extract model names and training times\n",
    "models = list(training_times_in_minutes.keys())\n",
    "times = list(training_times_in_minutes.values())\n",
    "\n",
    "# Define bar colors\n",
    "colors = ['teal', 'coral'] * (len(models) // 2)\n",
    "\n",
    "# Create the bar chart\n",
    "plt.figure(figsize=(10, 6))\n",
    "bars = plt.bar(models, times, color=colors)\n",
    "\n",
    "# Add title and labels\n",
    "plt.title('Czasy treningów modeli GPT-2 bez oraz z algorytmem LoRA')\n",
    "plt.xlabel('Model')\n",
    "plt.ylabel('Czas przebiegu jednej epoki (w minutach)')\n",
    "\n",
    "# Format y axis labels as minutes and seconds\n",
    "def format_yaxis(x, pos=None):\n",
    "    minutes = int(x)\n",
    "    seconds = int(60 * (x - minutes))\n",
    "    return f\"{minutes:02d}:{seconds:02d}\"\n",
    "\n",
    "formatter = ticker.FuncFormatter(format_yaxis)\n",
    "plt.gca().yaxis.set_major_formatter(formatter)\n",
    "\n",
    "# Display values above bars\n",
    "for bar, time in zip(bars, training_times.values()):\n",
    "    minutes = time // 60\n",
    "    seconds = time % 60\n",
    "    plt.text(bar.get_x() + bar.get_width() / 2.0, bar.get_height(), f\"{minutes:02d}:{seconds:02d}\", ha='center', va='bottom')\n",
    "\n",
    "\n",
    "plt.tight_layout()\n",
    "plt.savefig(\"times.png\", dpi=300)\n",
    "\n",
    "# Show the plot\n",
    "plt.show()\n"
   ]
  }
 ],
 "metadata": {
  "kernelspec": {
   "display_name": "venv",
   "language": "python",
   "name": "python3"
  },
  "language_info": {
   "codemirror_mode": {
    "name": "ipython",
    "version": 3
   },
   "file_extension": ".py",
   "mimetype": "text/x-python",
   "name": "python",
   "nbconvert_exporter": "python",
   "pygments_lexer": "ipython3",
   "version": "3.9.10"
  },
  "orig_nbformat": 4
 },
 "nbformat": 4,
 "nbformat_minor": 2
}
